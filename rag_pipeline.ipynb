{
 "cells": [
  {
   "cell_type": "markdown",
   "id": "d8219ba1",
   "metadata": {},
   "source": [
    "# Store information on the vectordb\n",
    "Make sure you executed `uvicorn vectordb.store_data:app <--reload>` on your terminal to enable FastAPI petitions"
   ]
  },
  {
   "cell_type": "markdown",
   "id": "01bb07b5",
   "metadata": {},
   "source": [
    "## Dependecies & variable instantiation\n",
    "Execute the following cell to have all the dependecies to execute the pipeline"
   ]
  },
  {
   "cell_type": "code",
   "execution_count": null,
   "id": "f77591ea",
   "metadata": {},
   "outputs": [],
   "source": [
    "from querying.query import Retrieval\n",
    "from vectordb.client import Client\n",
    "\n",
    "client = Client()"
   ]
  },
  {
   "cell_type": "markdown",
   "id": "fea8368f",
   "metadata": {},
   "source": [
    "## Store information\n",
    "First of all, we have to store information into the vector database in order to query. On the cell bellow you have an example of how to post some information into the vector database."
   ]
  },
  {
   "cell_type": "code",
   "execution_count": 24,
   "id": "13f48e37",
   "metadata": {},
   "outputs": [
    {
     "name": "stderr",
     "output_type": "stream",
     "text": [
      "2025-08-14 09:32:45,050 [INFO] Treating document: reduced_pride_and_prejudice.pdf\n"
     ]
    },
    {
     "name": "stdout",
     "output_type": "stream",
     "text": [
      "Treating document: reduced_pride_and_prejudice.pdf\n"
     ]
    }
   ],
   "source": [
    "client.post_doc([\"reduced_pride_and_prejudice.pdf\"])"
   ]
  },
  {
   "cell_type": "code",
   "execution_count": 33,
   "id": "176d9310",
   "metadata": {},
   "outputs": [],
   "source": [
    "retrieval = Retrieval()"
   ]
  },
  {
   "cell_type": "markdown",
   "id": "088feb5b",
   "metadata": {},
   "source": [
    "## Get Response\n",
    "Once we had stored some information such as `reduced_pride_and_prejudice.pdf` document we can make some questions to the model and he will give as a response."
   ]
  },
  {
   "cell_type": "code",
   "execution_count": 27,
   "id": "2f8906e4",
   "metadata": {},
   "outputs": [
    {
     "name": "stderr",
     "output_type": "stream",
     "text": [
      "2025-08-14 09:32:54,936 [INFO] HTTP Request: POST http://127.0.0.1:11434/api/embed \"HTTP/1.1 200 OK\"\n",
      "2025-08-14 09:32:54,939 [INFO] Generating answer\n",
      "2025-08-14 09:33:00,525 [INFO] HTTP Request: POST http://127.0.0.1:11434/api/chat \"HTTP/1.1 200 OK\"\n",
      "2025-08-14 09:33:00,527 [INFO] Answer generated\n"
     ]
    },
    {
     "data": {
      "text/plain": [
       "'The context documents do not provide enough information to answer this question.\\n\\nThe context does describe that Elizabeth felt \"Jane\\'s pleasure\" and that \"Elizabeth felt Jane’s pleasure\", which implies a positive relationship between her sisters, suggesting she might have a friendly or affectionate relationship with them. However, it does not mention anything about her feelings towards Mr. Darcy specifically after their first meeting at the ball.\\n\\nTherefore, based on the provided context, I cannot determine why Elizabeth feels \"no very cordial feelings\" toward Mr. Darcy after their first meeting at the ball.'"
      ]
     },
     "execution_count": 27,
     "metadata": {},
     "output_type": "execute_result"
    }
   ],
   "source": [
    "retrieval.no_context(\"Why does Elizabeth Bennet feel “no very cordial feelings” toward Mr. Darcy after their first meeting at the ball?\")"
   ]
  },
  {
   "cell_type": "code",
   "execution_count": 34,
   "id": "694ec7c8",
   "metadata": {},
   "outputs": [
    {
     "name": "stderr",
     "output_type": "stream",
     "text": [
      "2025-08-14 09:36:38,758 [INFO] Generating questions\n",
      "2025-08-14 09:36:46,208 [INFO] HTTP Request: POST http://127.0.0.1:11434/api/chat \"HTTP/1.1 200 OK\"\n",
      "2025-08-14 09:36:46,210 [INFO] Questions generated\n"
     ]
    },
    {
     "name": "stdout",
     "output_type": "stream",
     "text": [
      "1. The initial impression created by Elizabeth's dislike of Mr. Darcy, as revealed through her reaction to his arrogance and condescension.\n",
      "2. The potential long-term effects of societal expectations placed upon women during the time period, which may have contributed to Elizabeth's reservations about marrying a man who does not share similar values or interests.\n",
      "3. The possibility that Mr. Darcy's pride and sense of superiority may have led him to underestimate Elizabeth's character and overestimate his own worthiness for her hand in marriage.\n",
      "4. A potential misunderstanding between the two characters, where Elizabeth misinterprets Mr. Darcy's actions or words as signs of true affection rather than mere reserve or caution.\n",
      "5. The role that Jane Bennet's influence may have played in shaping Elizabeth's perception of Mr. Darcy, which could have contributed to her lingering reservations about him.\n"
     ]
    },
    {
     "ename": "TypeError",
     "evalue": "'list' object cannot be interpreted as an integer",
     "output_type": "error",
     "traceback": [
      "\u001b[31m---------------------------------------------------------------------------\u001b[39m",
      "\u001b[31mTypeError\u001b[39m                                 Traceback (most recent call last)",
      "\u001b[36mCell\u001b[39m\u001b[36m \u001b[39m\u001b[32mIn[34]\u001b[39m\u001b[32m, line 1\u001b[39m\n\u001b[32m----> \u001b[39m\u001b[32m1\u001b[39m \u001b[43mretrieval\u001b[49m\u001b[43m.\u001b[49m\u001b[43mrag_fusion\u001b[49m\u001b[43m(\u001b[49m\u001b[33;43m\"\u001b[39;49m\u001b[33;43mWhy does Elizabeth Bennet feel “no very cordial feelings” toward Mr. Darcy after their first meeting at the ball?\u001b[39;49m\u001b[33;43m\"\u001b[39;49m\u001b[43m)\u001b[49m\n",
      "\u001b[36mFile \u001b[39m\u001b[32m~/Desktop/OpenNebula/CloudLab/RAGProject/RAG/querying/query.py:146\u001b[39m, in \u001b[36mrag_fusion\u001b[39m\u001b[34m(self, query)\u001b[39m\n\u001b[32m    145\u001b[39m \u001b[38;5;28;01mdef\u001b[39;00m\u001b[38;5;250m \u001b[39m\u001b[34mrag_fusion\u001b[39m(\u001b[38;5;28mself\u001b[39m, query):\n\u001b[32m--> \u001b[39m\u001b[32m146\u001b[39m     questions = \u001b[38;5;28;43mself\u001b[39;49m\u001b[43m.\u001b[49m\u001b[43mgenerate_questions\u001b[49m\u001b[43m(\u001b[49m\u001b[43mquery\u001b[49m\u001b[43m)\u001b[49m\n\u001b[32m    147\u001b[39m     results = \u001b[38;5;28mself\u001b[39m.search_documents(questions)\n\u001b[32m    148\u001b[39m     sorted_indices = \u001b[38;5;28msorted\u001b[39m(results, key=results.get)\n",
      "\u001b[36mFile \u001b[39m\u001b[32m~/Desktop/OpenNebula/CloudLab/RAGProject/RAG/querying/query.py:120\u001b[39m, in \u001b[36mRetrieval.search_documents\u001b[39m\u001b[34m(self, context, k)\u001b[39m\n\u001b[32m    118\u001b[39m results = multiprocessing.Manager().dict()\n\u001b[32m    119\u001b[39m process = []\n\u001b[32m--> \u001b[39m\u001b[32m120\u001b[39m \u001b[38;5;28;01mfor\u001b[39;00m question, _ \u001b[38;5;129;01min\u001b[39;00m \u001b[38;5;28mzip\u001b[39m(context, \u001b[38;5;28;43mrange\u001b[39;49m\u001b[43m(\u001b[49m\u001b[43mcontext\u001b[49m\u001b[43m)\u001b[49m):\n\u001b[32m    121\u001b[39m     process.append(multiprocessing.Process(target = similarity, args=(question, results)))\n\u001b[32m    123\u001b[39m \u001b[38;5;28;01mfor\u001b[39;00m p \u001b[38;5;129;01min\u001b[39;00m process:\n",
      "\u001b[31mTypeError\u001b[39m: 'list' object cannot be interpreted as an integer"
     ]
    }
   ],
   "source": [
    "retrieval.rag_fusion(\"Why does Elizabeth Bennet feel “no very cordial feelings” toward Mr. Darcy after their first meeting at the ball?\")"
   ]
  },
  {
   "cell_type": "code",
   "execution_count": null,
   "id": "beb202e4",
   "metadata": {},
   "outputs": [],
   "source": []
  }
 ],
 "metadata": {
  "kernelspec": {
   "display_name": ".venv (3.12.3)",
   "language": "python",
   "name": "python3"
  },
  "language_info": {
   "codemirror_mode": {
    "name": "ipython",
    "version": 3
   },
   "file_extension": ".py",
   "mimetype": "text/x-python",
   "name": "python",
   "nbconvert_exporter": "python",
   "pygments_lexer": "ipython3",
   "version": "3.12.3"
  }
 },
 "nbformat": 4,
 "nbformat_minor": 5
}
